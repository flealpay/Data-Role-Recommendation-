{
 "cells": [
  {
   "cell_type": "markdown",
   "id": "772eb81e",
   "metadata": {
    "papermill": {
     "duration": 0.019299,
     "end_time": "2023-05-29T20:44:17.532493",
     "exception": false,
     "start_time": "2023-05-29T20:44:17.513194",
     "status": "completed"
    },
    "tags": []
   },
   "source": [
    "Data analytics salaries between 2020 - 2023"
   ]
  },
  {
   "cell_type": "markdown",
   "id": "33301f7e",
   "metadata": {
    "papermill": {
     "duration": 0.018401,
     "end_time": "2023-05-29T20:44:17.569362",
     "exception": false,
     "start_time": "2023-05-29T20:44:17.550961",
     "status": "completed"
    },
    "tags": []
   },
   "source": [
    "# <center>Data Science Salaries</center>\n",
    "\n",
    "This is my proyect for Zerotopandas.com Free online course.\n",
    "In here we will see a very interesting point of view about nothing else than the Data scientist salaries"
   ]
  },
  {
   "cell_type": "markdown",
   "id": "61eb4959",
   "metadata": {
    "papermill": {
     "duration": 0.017715,
     "end_time": "2023-05-29T20:44:17.605258",
     "exception": false,
     "start_time": "2023-05-29T20:44:17.587543",
     "status": "completed"
    },
    "tags": []
   },
   "source": [
    "![Data Scientist](https://www.course5i.com/wp-content/uploads/Analytics-Team1.png)"
   ]
  },
  {
   "cell_type": "markdown",
   "id": "0760c72c",
   "metadata": {
    "papermill": {
     "duration": 0.017855,
     "end_time": "2023-05-29T20:44:17.641899",
     "exception": false,
     "start_time": "2023-05-29T20:44:17.624044",
     "status": "completed"
    },
    "tags": []
   },
   "source": [
    "# Introduction \n",
    "\n",
    "## About - Dataset:\n",
    "   <p style='text-align:justify;'>Every day in different types of companies, a valuable multiplicity of data is produced –in different formats and supports– on customer behavior, sales performance, profitability, billing and claims attention processes, which are very useful for decision making and strategy design.\n",
    "\n",
    "For this reason, in recent years, data analysis has grown exponentially thanks to the digitization process of companies. This is certified by different data from studies updated in 2020:\n",
    "\n",
    "* More than 80% of companies with a global scale have increased their resources and investment destined to create their own area of Analytics or Data Science.\n",
    "\n",
    "* 94% of professionals at the corporate level say that data and analytics are critical to the transformation and digitization programs of companies.\n",
    "\n",
    "* The Big Data Analytics market is projected to be worth $105 billion by 2027.\n",
    "\n",
    "The other leg of the phenomenon is the professionals who are responsible for standardizing, exploiting, interpreting and making sense of this data. And that is where Data Analytics companies come into play. Because data analysis and artificial intelligence have a kind of mystery created by the complexity of the discipline and a bit by science fiction movies.</p>\n",
    "       \n",
    "## About - Project:\n",
    "   <p style='text-align:justify;'>This Exploratory Data Analysis will be my project as a part of \"Data Analysis with Python: Zero to Pandas\" course structured and provided by Jovian. In this project, we'll analyse the relationship between the data colected from 2020 to early 2023, data analytics jobs and their salaries and how they can vary depending on the company, type of employement and job tittle. The graphical representation and visualisation of data using matplotlib and seaborn library in python helps us to easily understand a lot better about the dataset.</p>\n",
    "\n",
    "## Dataset - Source:\n",
    "The dataset is obtained from [Kaggle](https://www.kaggle.com/datasets/arnabchaki/data-science-salaries-2023) Your Machine Learning and Data Science Community.\n",
    "### Disclaimer:\n",
    "   <p style='text-aling:justify;'>This data is not complete, provides most data about countries like USA, Canada and Europe. Does not contain info about big countries like china therefore wouldnt rely 100% to this info since its presence may affect significantly the outcome of the analysis</p>\n",
    "\n",
    "## Download the Dataset:\n",
    "   <p style='text-align:justify;'>There are several options for getting the dataset into Jupyter:</p>\n",
    "   \n",
    "*  <p style='text-align:justify;'> Download the CSV manually and upload it via Jupyter's GUI</p>\n",
    "    \n",
    "*  <p style='text-align:justify;'> Use the urlretrieve function from the urllib.request to download CSV files from a raw URL</p>\n",
    "    \n",
    "*  <p style='text-align:justify;'> Use a helper library, e.g., opendatasets, which contains a collection of curated datasets and provides a helper function for direct download.</p>\n",
    "\n",
    "<p style='text-align:justify;'>Here, Im using the opendatasets helper library to download the files from Kaggle using my username and API key. Let's begin by downloading the data, and listing the files within the dataset.</p>"
   ]
  },
  {
   "cell_type": "code",
   "execution_count": 1,
   "id": "e801fb8a",
   "metadata": {
    "execution": {
     "iopub.execute_input": "2023-05-29T20:44:17.681586Z",
     "iopub.status.busy": "2023-05-29T20:44:17.680683Z",
     "iopub.status.idle": "2023-05-29T20:44:17.691438Z",
     "shell.execute_reply": "2023-05-29T20:44:17.690624Z"
    },
    "papermill": {
     "duration": 0.033615,
     "end_time": "2023-05-29T20:44:17.693718",
     "exception": false,
     "start_time": "2023-05-29T20:44:17.660103",
     "status": "completed"
    },
    "tags": []
   },
   "outputs": [],
   "source": [
    "dataset_url = 'https://www.kaggle.com/arnabchaki/data-science-salaries-2023' "
   ]
  },
  {
   "cell_type": "code",
   "execution_count": 2,
   "id": "f13c7ab1",
   "metadata": {
    "execution": {
     "iopub.execute_input": "2023-05-29T20:44:17.732836Z",
     "iopub.status.busy": "2023-05-29T20:44:17.732177Z",
     "iopub.status.idle": "2023-05-29T20:44:18.198230Z",
     "shell.execute_reply": "2023-05-29T20:44:18.196676Z"
    },
    "papermill": {
     "duration": 0.487768,
     "end_time": "2023-05-29T20:44:18.200214",
     "exception": true,
     "start_time": "2023-05-29T20:44:17.712446",
     "status": "failed"
    },
    "tags": []
   },
   "outputs": [
    {
     "ename": "ModuleNotFoundError",
     "evalue": "No module named 'opendatasets'",
     "output_type": "error",
     "traceback": [
      "\u001b[0;31m---------------------------------------------------------------------------\u001b[0m",
      "\u001b[0;31mModuleNotFoundError\u001b[0m                       Traceback (most recent call last)",
      "Cell \u001b[0;32mIn[2], line 1\u001b[0m\n\u001b[0;32m----> 1\u001b[0m \u001b[38;5;28;01mimport\u001b[39;00m \u001b[38;5;21;01mopendatasets\u001b[39;00m \u001b[38;5;28;01mas\u001b[39;00m \u001b[38;5;21;01mod\u001b[39;00m\n\u001b[1;32m      2\u001b[0m od\u001b[38;5;241m.\u001b[39mdownload(dataset_url)\n",
      "\u001b[0;31mModuleNotFoundError\u001b[0m: No module named 'opendatasets'"
     ]
    }
   ],
   "source": [
    "import opendatasets as od\n",
    "od.download(dataset_url)"
   ]
  },
  {
   "cell_type": "markdown",
   "id": "b30458e5",
   "metadata": {
    "papermill": {
     "duration": null,
     "end_time": null,
     "exception": null,
     "start_time": null,
     "status": "pending"
    },
    "tags": []
   },
   "source": [
    "The dataset has been downloaded and extracted."
   ]
  },
  {
   "cell_type": "code",
   "execution_count": null,
   "id": "85455e27",
   "metadata": {
    "papermill": {
     "duration": null,
     "end_time": null,
     "exception": null,
     "start_time": null,
     "status": "pending"
    },
    "tags": []
   },
   "outputs": [],
   "source": [
    "\n",
    "data_dir = './data-science-salaries-2023'"
   ]
  },
  {
   "cell_type": "code",
   "execution_count": null,
   "id": "39f27365",
   "metadata": {
    "papermill": {
     "duration": null,
     "end_time": null,
     "exception": null,
     "start_time": null,
     "status": "pending"
    },
    "tags": []
   },
   "outputs": [],
   "source": [
    "import os\n",
    "os.listdir(data_dir)"
   ]
  },
  {
   "cell_type": "markdown",
   "id": "58988cdd",
   "metadata": {
    "papermill": {
     "duration": null,
     "end_time": null,
     "exception": null,
     "start_time": null,
     "status": "pending"
    },
    "tags": []
   },
   "source": [
    "# Data Preparation and Cleaning\n",
    "\n",
    "First I am going to try to determine the types of data that I am going to handle, look for, if there is, missing data and try to correct them accordingly.\n",
    "\n",
    "Also need to import pandas and numpy since they're vital to a data analysis\n"
   ]
  },
  {
   "cell_type": "code",
   "execution_count": null,
   "id": "f3bf9188",
   "metadata": {
    "papermill": {
     "duration": null,
     "end_time": null,
     "exception": null,
     "start_time": null,
     "status": "pending"
    },
    "tags": []
   },
   "outputs": [],
   "source": [
    "import pandas as pd\n",
    "import numpy as np"
   ]
  },
  {
   "cell_type": "code",
   "execution_count": null,
   "id": "24817544",
   "metadata": {
    "papermill": {
     "duration": null,
     "end_time": null,
     "exception": null,
     "start_time": null,
     "status": "pending"
    },
    "tags": []
   },
   "outputs": [],
   "source": [
    "# reading the csv into a dataframe\n",
    "salary_df = pd.read_csv(data_dir + '/ds_salaries.csv')"
   ]
  },
  {
   "cell_type": "markdown",
   "id": "4f970694",
   "metadata": {
    "papermill": {
     "duration": null,
     "end_time": null,
     "exception": null,
     "start_time": null,
     "status": "pending"
    },
    "tags": []
   },
   "source": [
    "### Glimpe of the first items in my dataframe"
   ]
  },
  {
   "cell_type": "code",
   "execution_count": null,
   "id": "b4b67fc9",
   "metadata": {
    "papermill": {
     "duration": null,
     "end_time": null,
     "exception": null,
     "start_time": null,
     "status": "pending"
    },
    "tags": []
   },
   "outputs": [],
   "source": [
    "salary_df.head(5)"
   ]
  },
  {
   "cell_type": "code",
   "execution_count": null,
   "id": "66156ded",
   "metadata": {
    "papermill": {
     "duration": null,
     "end_time": null,
     "exception": null,
     "start_time": null,
     "status": "pending"
    },
    "tags": []
   },
   "outputs": [],
   "source": [
    "# determine how big is the dataframe.\n",
    "salary_df.shape"
   ]
  },
  {
   "cell_type": "markdown",
   "id": "366cf9fc",
   "metadata": {
    "papermill": {
     "duration": null,
     "end_time": null,
     "exception": null,
     "start_time": null,
     "status": "pending"
    },
    "tags": []
   },
   "source": [
    "3755 ROWS and 11 COLUMNS of data"
   ]
  },
  {
   "cell_type": "code",
   "execution_count": null,
   "id": "626e5d76",
   "metadata": {
    "papermill": {
     "duration": null,
     "end_time": null,
     "exception": null,
     "start_time": null,
     "status": "pending"
    },
    "tags": []
   },
   "outputs": [],
   "source": [
    "print(salary_df.columns)"
   ]
  },
  {
   "cell_type": "markdown",
   "id": "15eec919",
   "metadata": {
    "papermill": {
     "duration": null,
     "end_time": null,
     "exception": null,
     "start_time": null,
     "status": "pending"
    },
    "tags": []
   },
   "source": [
    "Brief description about columns at first glance\n",
    "- work_year: information about the year in which the data was collected\n",
    "- experience_level: the level of experience of the data scientist, 'SE' for Senior, 'MI' for Mid-senior and so on\n",
    "- employment_type: the type of employment, 'FT' as full-time or 'CT' as contract\n",
    "- job_title: the job title of the data analyst/scientist\n",
    "- salary: the salary amount in local currency type\n",
    "- salary_currency: the currency in which the salary is reported\n",
    "- salary_in_usd: the salary amount converted to American dollars\n",
    "- employee_residence: the location country for the data scientist\n",
    "- remote_ratio: the percentage of time the data scientist works remotely\n",
    "- company_location: the country in which employer is located\n",
    "- company_size: the size of the company, 'L' for large, 'M' for medium and 'S' for small"
   ]
  },
  {
   "cell_type": "code",
   "execution_count": null,
   "id": "ef789cea",
   "metadata": {
    "papermill": {
     "duration": null,
     "end_time": null,
     "exception": null,
     "start_time": null,
     "status": "pending"
    },
    "tags": []
   },
   "outputs": [],
   "source": [
    "salary_df.describe()"
   ]
  },
  {
   "cell_type": "markdown",
   "id": "a59ca530",
   "metadata": {
    "papermill": {
     "duration": null,
     "end_time": null,
     "exception": null,
     "start_time": null,
     "status": "pending"
    },
    "tags": []
   },
   "source": [
    "<p style='text-aling:justify;'>By looking at the describe funtion its easy to check for anormalyties, ceros and negative numbers in the dataframe that may affect negatively the results</p>"
   ]
  },
  {
   "cell_type": "markdown",
   "id": "2cc32518",
   "metadata": {
    "papermill": {
     "duration": null,
     "end_time": null,
     "exception": null,
     "start_time": null,
     "status": "pending"
    },
    "tags": []
   },
   "source": [
    "<p style='text-aling:justify;'>\n",
    "The average salary is 137570 US dollars across all job_titles.\n",
    "\n",
    "Remote jobs may started closer to 2022 and 2023</p>"
   ]
  },
  {
   "cell_type": "markdown",
   "id": "28f16bd8",
   "metadata": {
    "papermill": {
     "duration": null,
     "end_time": null,
     "exception": null,
     "start_time": null,
     "status": "pending"
    },
    "tags": []
   },
   "source": [
    "**Check for null values**"
   ]
  },
  {
   "cell_type": "code",
   "execution_count": null,
   "id": "46ce68ca",
   "metadata": {
    "papermill": {
     "duration": null,
     "end_time": null,
     "exception": null,
     "start_time": null,
     "status": "pending"
    },
    "tags": []
   },
   "outputs": [],
   "source": [
    "salary_df.isna().sum()"
   ]
  },
  {
   "cell_type": "markdown",
   "id": "be3bcd74",
   "metadata": {
    "papermill": {
     "duration": null,
     "end_time": null,
     "exception": null,
     "start_time": null,
     "status": "pending"
    },
    "tags": []
   },
   "source": [
    "Using \"isna\" to search not aplicable values\n",
    "<br>Aparently at first glance, there are no faulty values for now so we can continue\n"
   ]
  },
  {
   "cell_type": "code",
   "execution_count": null,
   "id": "37a27d8c",
   "metadata": {
    "papermill": {
     "duration": null,
     "end_time": null,
     "exception": null,
     "start_time": null,
     "status": "pending"
    },
    "tags": []
   },
   "outputs": [],
   "source": [
    "salary_df.info()"
   ]
  },
  {
   "cell_type": "markdown",
   "id": "dc3f338f",
   "metadata": {
    "papermill": {
     "duration": null,
     "end_time": null,
     "exception": null,
     "start_time": null,
     "status": "pending"
    },
    "tags": []
   },
   "source": [
    "The pandas funtion \"info\" is used to view some basic information of a data frame. Gives us some data we already know BUT gives us the datatypes"
   ]
  },
  {
   "cell_type": "markdown",
   "id": "30e7f51e",
   "metadata": {
    "papermill": {
     "duration": null,
     "end_time": null,
     "exception": null,
     "start_time": null,
     "status": "pending"
    },
    "tags": []
   },
   "source": [
    "***"
   ]
  },
  {
   "cell_type": "markdown",
   "id": "2fab3ee7",
   "metadata": {
    "papermill": {
     "duration": null,
     "end_time": null,
     "exception": null,
     "start_time": null,
     "status": "pending"
    },
    "tags": []
   },
   "source": [
    "# Exploratory Analysis and Visualization\n",
    "\n",
    "<p style='text-aling:justify;'>Since the data is too big to visualize, the go-to is to create graphics for easy understanding</p>\n",
    "\n"
   ]
  },
  {
   "cell_type": "markdown",
   "id": "42956dd1",
   "metadata": {
    "papermill": {
     "duration": null,
     "end_time": null,
     "exception": null,
     "start_time": null,
     "status": "pending"
    },
    "tags": []
   },
   "source": [
    "Let's begin by importing`matplotlib.pyplot` and `seaborn`."
   ]
  },
  {
   "cell_type": "code",
   "execution_count": null,
   "id": "3d0fc8b8",
   "metadata": {
    "papermill": {
     "duration": null,
     "end_time": null,
     "exception": null,
     "start_time": null,
     "status": "pending"
    },
    "tags": []
   },
   "outputs": [],
   "source": [
    "import seaborn as sns\n",
    "import matplotlib\n",
    "import matplotlib.pyplot as plt\n",
    "%matplotlib inline\n",
    "\n",
    "sns.set_style('darkgrid')\n",
    "matplotlib.rcParams['font.size'] = 14\n",
    "matplotlib.rcParams['figure.figsize'] = (9, 5)\n",
    "matplotlib.rcParams['figure.facecolor'] = '#00000000'"
   ]
  },
  {
   "cell_type": "markdown",
   "id": "65b079d9",
   "metadata": {
    "papermill": {
     "duration": null,
     "end_time": null,
     "exception": null,
     "start_time": null,
     "status": "pending"
    },
    "tags": []
   },
   "source": [
    "## **Salaries based on experience level**"
   ]
  },
  {
   "cell_type": "markdown",
   "id": "e1054a88",
   "metadata": {
    "papermill": {
     "duration": null,
     "end_time": null,
     "exception": null,
     "start_time": null,
     "status": "pending"
    },
    "tags": []
   },
   "source": [
    "<p style='text-aling:justify;'>I will change the abbreviations for better understanding (and to make the graph prettier)</p>"
   ]
  },
  {
   "cell_type": "code",
   "execution_count": null,
   "id": "8e025c56",
   "metadata": {
    "papermill": {
     "duration": null,
     "end_time": null,
     "exception": null,
     "start_time": null,
     "status": "pending"
    },
    "tags": []
   },
   "outputs": [],
   "source": [
    "salary_df['experience_level'] = salary_df['experience_level'].replace('SE','Senior')\n",
    "salary_df['experience_level'] = salary_df['experience_level'].replace('MI','Mid-Senior')\n",
    "salary_df['experience_level'] = salary_df['experience_level'].replace('EN','Entry')\n",
    "salary_df['experience_level'] = salary_df['experience_level'].replace('EX','Executive')"
   ]
  },
  {
   "cell_type": "code",
   "execution_count": null,
   "id": "0c3da6cc",
   "metadata": {
    "papermill": {
     "duration": null,
     "end_time": null,
     "exception": null,
     "start_time": null,
     "status": "pending"
    },
    "tags": []
   },
   "outputs": [],
   "source": [
    "plt.title(\"Salaries based on experience level\")\n",
    "sns.scatterplot(x='experience_level', y='salary_in_usd', data=salary_df);"
   ]
  },
  {
   "cell_type": "markdown",
   "id": "9f20eb7b",
   "metadata": {
    "papermill": {
     "duration": null,
     "end_time": null,
     "exception": null,
     "start_time": null,
     "status": "pending"
    },
    "tags": []
   },
   "source": [
    "<p style='text-aling:justify;'>Here we can se how the salaries will bary depending on the experience.\n",
    "<br>Curiously mid seniors have some outliers with the highest numbers</p>"
   ]
  },
  {
   "cell_type": "markdown",
   "id": "12e03f83",
   "metadata": {
    "papermill": {
     "duration": null,
     "end_time": null,
     "exception": null,
     "start_time": null,
     "status": "pending"
    },
    "tags": []
   },
   "source": [
    "## **Number of jobs in each experience category**"
   ]
  },
  {
   "cell_type": "code",
   "execution_count": null,
   "id": "7ace2c71",
   "metadata": {
    "papermill": {
     "duration": null,
     "end_time": null,
     "exception": null,
     "start_time": null,
     "status": "pending"
    },
    "tags": []
   },
   "outputs": [],
   "source": [
    "salary_df['experience_level'].value_counts()"
   ]
  },
  {
   "cell_type": "markdown",
   "id": "f5eaf90d",
   "metadata": {
    "papermill": {
     "duration": null,
     "end_time": null,
     "exception": null,
     "start_time": null,
     "status": "pending"
    },
    "tags": []
   },
   "source": [
    "<p style='text-aling:justify;'>plot for better display</p>"
   ]
  },
  {
   "cell_type": "code",
   "execution_count": null,
   "id": "56730644",
   "metadata": {
    "papermill": {
     "duration": null,
     "end_time": null,
     "exception": null,
     "start_time": null,
     "status": "pending"
    },
    "tags": []
   },
   "outputs": [],
   "source": [
    "plt.title(\"Number of jobs on Experience category\")\n",
    "plt.ylabel(\"Jobs Count\")\n",
    "plt.xlabel(\"Experience Category\")\n",
    "plt.hist(salary_df.experience_level);"
   ]
  },
  {
   "cell_type": "markdown",
   "id": "aabe6fbd",
   "metadata": {
    "papermill": {
     "duration": null,
     "end_time": null,
     "exception": null,
     "start_time": null,
     "status": "pending"
    },
    "tags": []
   },
   "source": [
    "- Senior level has the biggest number of jobs\n",
    "- Throughout the industry it is common to see years of experience as a requirement, it is not uncommon for it to be difficult to enter the data industry, that is why it is more common to see seniors"
   ]
  },
  {
   "cell_type": "markdown",
   "id": "622f91d6",
   "metadata": {
    "papermill": {
     "duration": null,
     "end_time": null,
     "exception": null,
     "start_time": null,
     "status": "pending"
    },
    "tags": []
   },
   "source": [
    "# **Payment depending the company size**"
   ]
  },
  {
   "cell_type": "code",
   "execution_count": null,
   "id": "22c678e6",
   "metadata": {
    "papermill": {
     "duration": null,
     "end_time": null,
     "exception": null,
     "start_time": null,
     "status": "pending"
    },
    "tags": []
   },
   "outputs": [],
   "source": [
    "company_salary = salary_df.groupby('company_size')['salary_in_usd'].mean()"
   ]
  },
  {
   "cell_type": "code",
   "execution_count": null,
   "id": "68fc0112",
   "metadata": {
    "papermill": {
     "duration": null,
     "end_time": null,
     "exception": null,
     "start_time": null,
     "status": "pending"
    },
    "tags": []
   },
   "outputs": [],
   "source": [
    "plt.title(\"Payment depending the company size\")\n",
    "plt.bar(company_salary.index, company_salary.values);\n",
    "plt.ylabel(\"Salary in USD\");\n",
    "plt.xlabel(\"Company Size\");\n"
   ]
  },
  {
   "cell_type": "markdown",
   "id": "04aa712e",
   "metadata": {
    "papermill": {
     "duration": null,
     "end_time": null,
     "exception": null,
     "start_time": null,
     "status": "pending"
    },
    "tags": []
   },
   "source": [
    "Diferent of what we would think, the medium-size companies offers the best salaries rather than the large ones "
   ]
  },
  {
   "cell_type": "markdown",
   "id": "b4a70b50",
   "metadata": {
    "papermill": {
     "duration": null,
     "end_time": null,
     "exception": null,
     "start_time": null,
     "status": "pending"
    },
    "tags": []
   },
   "source": [
    "# **Average Salarie by title**"
   ]
  },
  {
   "cell_type": "code",
   "execution_count": null,
   "id": "7befe623",
   "metadata": {
    "papermill": {
     "duration": null,
     "end_time": null,
     "exception": null,
     "start_time": null,
     "status": "pending"
    },
    "tags": []
   },
   "outputs": [],
   "source": [
    "job_salaries = salary_df.groupby('job_title')['salary_in_usd'].mean().sort_values(ascending=True)"
   ]
  },
  {
   "cell_type": "code",
   "execution_count": null,
   "id": "f84e6d31",
   "metadata": {
    "papermill": {
     "duration": null,
     "end_time": null,
     "exception": null,
     "start_time": null,
     "status": "pending"
    },
    "tags": []
   },
   "outputs": [],
   "source": [
    "plt.figure(figsize=(10,20))\n",
    "plt.barh(job_salaries.index, job_salaries.values)\n",
    "plt.title('Average Salarie by title')\n",
    "plt.xlabel('Salary')\n",
    "plt.ylabel('Title')"
   ]
  },
  {
   "cell_type": "code",
   "execution_count": null,
   "id": "aa6c8b9d",
   "metadata": {
    "papermill": {
     "duration": null,
     "end_time": null,
     "exception": null,
     "start_time": null,
     "status": "pending"
    },
    "tags": []
   },
   "outputs": [],
   "source": [
    "salary_df['job_title'].nunique()"
   ]
  },
  {
   "cell_type": "markdown",
   "id": "fd1d985d",
   "metadata": {
    "papermill": {
     "duration": null,
     "end_time": null,
     "exception": null,
     "start_time": null,
     "status": "pending"
    },
    "tags": []
   },
   "source": [
    "<p style='text-aling:justify;'>There are unique 93 job titles\n",
    "    \n",
    "The graph makes easy understanding of the question above, Data Science Tech Lead makes most profit\n",
    "    \n",
    "Lead roles also makes overall more</p>\n"
   ]
  },
  {
   "cell_type": "markdown",
   "id": "a99b84a9",
   "metadata": {
    "papermill": {
     "duration": null,
     "end_time": null,
     "exception": null,
     "start_time": null,
     "status": "pending"
    },
    "tags": []
   },
   "source": [
    "***"
   ]
  },
  {
   "cell_type": "markdown",
   "id": "c5ea112d",
   "metadata": {
    "papermill": {
     "duration": null,
     "end_time": null,
     "exception": null,
     "start_time": null,
     "status": "pending"
    },
    "tags": []
   },
   "source": [
    "# Asking and Answering Questions\n",
    "\n",
    " I will proceed to respond some common questions from what i can see in this dataframe\n",
    "\n"
   ]
  },
  {
   "cell_type": "markdown",
   "id": "1f57144a",
   "metadata": {
    "papermill": {
     "duration": null,
     "end_time": null,
     "exception": null,
     "start_time": null,
     "status": "pending"
    },
    "tags": []
   },
   "source": [
    "## Q: Which job is the best and which is the worst payed?"
   ]
  },
  {
   "cell_type": "code",
   "execution_count": null,
   "id": "145e1238",
   "metadata": {
    "papermill": {
     "duration": null,
     "end_time": null,
     "exception": null,
     "start_time": null,
     "status": "pending"
    },
    "tags": []
   },
   "outputs": [],
   "source": [
    "best_payed = salary_df.groupby('job_title')['salary_in_usd'].mean()"
   ]
  },
  {
   "cell_type": "code",
   "execution_count": null,
   "id": "9057fe53",
   "metadata": {
    "papermill": {
     "duration": null,
     "end_time": null,
     "exception": null,
     "start_time": null,
     "status": "pending"
    },
    "tags": []
   },
   "outputs": [],
   "source": [
    "best_payed.sort_values(ascending=False)"
   ]
  },
  {
   "cell_type": "markdown",
   "id": "b9bfa6b9",
   "metadata": {
    "papermill": {
     "duration": null,
     "end_time": null,
     "exception": null,
     "start_time": null,
     "status": "pending"
    },
    "tags": []
   },
   "source": [
    "\n",
    "As we can clearly see, the most payed job is \"Data Science Tech Lead\" with an outstanding 375000 dollars mean.\n",
    "\n",
    "What does a data science tech lead do?\n",
    "Lead Data Scientist responsibilities include managing the data science team, planning projects and building analytics models. You should have a strong problem-solving ability and a knack for statistical analysis."
   ]
  },
  {
   "cell_type": "markdown",
   "id": "9fb3abc1",
   "metadata": {
    "papermill": {
     "duration": null,
     "end_time": null,
     "exception": null,
     "start_time": null,
     "status": "pending"
    },
    "tags": []
   },
   "source": [
    "The \"worst\" payed in the data frame is \"Power BI Developer\" with 5409 dollars\n",
    "\n",
    "​​A Power BI developer typically has complete knowledge of the BI system. They are responsible for the development and administration of BI tools. And their main duty is to transform raw data into meaningful insights. This is accomplished through interactive and user-friendly dashboards and reports."
   ]
  },
  {
   "cell_type": "markdown",
   "id": "41c3da2a",
   "metadata": {
    "papermill": {
     "duration": null,
     "end_time": null,
     "exception": null,
     "start_time": null,
     "status": "pending"
    },
    "tags": []
   },
   "source": [
    "## Q: What is the average salary for a data scientist?"
   ]
  },
  {
   "cell_type": "code",
   "execution_count": null,
   "id": "a9c806f5",
   "metadata": {
    "papermill": {
     "duration": null,
     "end_time": null,
     "exception": null,
     "start_time": null,
     "status": "pending"
    },
    "tags": []
   },
   "outputs": [],
   "source": [
    "average_salary = salary_df[salary_df['job_title'] == 'Data Scientist']['salary_in_usd'].mean()"
   ]
  },
  {
   "cell_type": "code",
   "execution_count": null,
   "id": "d04becca",
   "metadata": {
    "papermill": {
     "duration": null,
     "end_time": null,
     "exception": null,
     "start_time": null,
     "status": "pending"
    },
    "tags": []
   },
   "outputs": [],
   "source": [
    "print(\"The average salary for the 'Data analyst' job title is {} US dollars\".format(int(average_salary)))"
   ]
  },
  {
   "cell_type": "markdown",
   "id": "fd86cfd0",
   "metadata": {
    "papermill": {
     "duration": null,
     "end_time": null,
     "exception": null,
     "start_time": null,
     "status": "pending"
    },
    "tags": []
   },
   "source": [
    "What a data scientist do? Data scientists examine which questions need answering and where to find the related data. They have business acumen and analytical skills as well as the ability to mine, clean, and present data. Businesses use data scientists to source, manage, and analyze large amounts of unstructured data."
   ]
  },
  {
   "cell_type": "markdown",
   "id": "34fd6d08",
   "metadata": {
    "papermill": {
     "duration": null,
     "end_time": null,
     "exception": null,
     "start_time": null,
     "status": "pending"
    },
    "tags": []
   },
   "source": [
    "## Q: What are the top jobs in the data industry?"
   ]
  },
  {
   "cell_type": "markdown",
   "id": "4f9b7fd0",
   "metadata": {
    "papermill": {
     "duration": null,
     "end_time": null,
     "exception": null,
     "start_time": null,
     "status": "pending"
    },
    "tags": []
   },
   "source": [
    "We count the values and then filter the top 10"
   ]
  },
  {
   "cell_type": "code",
   "execution_count": null,
   "id": "2bf79c89",
   "metadata": {
    "papermill": {
     "duration": null,
     "end_time": null,
     "exception": null,
     "start_time": null,
     "status": "pending"
    },
    "tags": []
   },
   "outputs": [],
   "source": [
    "jobs=salary_df['job_title'].value_counts()\n",
    "jobs"
   ]
  },
  {
   "cell_type": "code",
   "execution_count": null,
   "id": "5894b870",
   "metadata": {
    "papermill": {
     "duration": null,
     "end_time": null,
     "exception": null,
     "start_time": null,
     "status": "pending"
    },
    "tags": []
   },
   "outputs": [],
   "source": [
    "jobs[:10]"
   ]
  },
  {
   "cell_type": "markdown",
   "id": "1aa87241",
   "metadata": {
    "papermill": {
     "duration": null,
     "end_time": null,
     "exception": null,
     "start_time": null,
     "status": "pending"
    },
    "tags": []
   },
   "source": [
    "BASED ON POSITIONS FILLED\n",
    "1. Data Engineer                1040 (TOP)\n",
    "2. Data Scientist                840\n",
    "3. Data Analyst                  612\n",
    "4. Machine Learning Engineer     289\n",
    "5. Analytics Engineer            103\n",
    "6. Data Architect                101\n",
    "7. Research Scientist             82\n",
    "8. Data Science Manager           58\n",
    "9. Applied Scientist              58\n",
    "10. Research Engineer              37"
   ]
  },
  {
   "cell_type": "markdown",
   "id": "8cc0566a",
   "metadata": {
    "papermill": {
     "duration": null,
     "end_time": null,
     "exception": null,
     "start_time": null,
     "status": "pending"
    },
    "tags": []
   },
   "source": [
    "## Q: what type of contract is the most present?"
   ]
  },
  {
   "cell_type": "code",
   "execution_count": null,
   "id": "644147e7",
   "metadata": {
    "papermill": {
     "duration": null,
     "end_time": null,
     "exception": null,
     "start_time": null,
     "status": "pending"
    },
    "tags": []
   },
   "outputs": [],
   "source": [
    "count_type = salary_df['employment_type'].value_counts()"
   ]
  },
  {
   "cell_type": "code",
   "execution_count": null,
   "id": "02d65592",
   "metadata": {
    "papermill": {
     "duration": null,
     "end_time": null,
     "exception": null,
     "start_time": null,
     "status": "pending"
    },
    "tags": []
   },
   "outputs": [],
   "source": [
    "count_type"
   ]
  },
  {
   "cell_type": "code",
   "execution_count": null,
   "id": "825b22ab",
   "metadata": {
    "papermill": {
     "duration": null,
     "end_time": null,
     "exception": null,
     "start_time": null,
     "status": "pending"
    },
    "tags": []
   },
   "outputs": [],
   "source": [
    "plt.title('Count of employment type')\n",
    "plt.hist(salary_df.employment_type);\n",
    "plt.ylabel(\"Employement count\");\n",
    "plt.xlabel(\"Employement Type\");"
   ]
  },
  {
   "cell_type": "markdown",
   "id": "2967ec67",
   "metadata": {
    "papermill": {
     "duration": null,
     "end_time": null,
     "exception": null,
     "start_time": null,
     "status": "pending"
    },
    "tags": []
   },
   "source": [
    "Full time has more than 3500 counts\n",
    "\n",
    "Full time represents more than 95% of employement type in this dataframe\n",
    "\n",
    "By a massive diference, Full Time."
   ]
  },
  {
   "cell_type": "markdown",
   "id": "a96b6a86",
   "metadata": {
    "papermill": {
     "duration": null,
     "end_time": null,
     "exception": null,
     "start_time": null,
     "status": "pending"
    },
    "tags": []
   },
   "source": [
    "## Q: Which are the top country based on salaries?"
   ]
  },
  {
   "cell_type": "code",
   "execution_count": null,
   "id": "e4cfa5d0",
   "metadata": {
    "papermill": {
     "duration": null,
     "end_time": null,
     "exception": null,
     "start_time": null,
     "status": "pending"
    },
    "tags": []
   },
   "outputs": [],
   "source": [
    "country_top = salary_df.groupby('employee_residence')['salary_in_usd'].mean()"
   ]
  },
  {
   "cell_type": "code",
   "execution_count": null,
   "id": "0f246fa4",
   "metadata": {
    "papermill": {
     "duration": null,
     "end_time": null,
     "exception": null,
     "start_time": null,
     "status": "pending"
    },
    "tags": []
   },
   "outputs": [],
   "source": [
    "country_top.sort_values(ascending=False)"
   ]
  },
  {
   "cell_type": "markdown",
   "id": "f7115d01",
   "metadata": {
    "papermill": {
     "duration": null,
     "end_time": null,
     "exception": null,
     "start_time": null,
     "status": "pending"
    },
    "tags": []
   },
   "source": [
    "`ISRAEL` is the country with the biggest salary\n",
    "\n",
    "Contrary looks like Macedonia is the country with the lowest salary registered"
   ]
  },
  {
   "cell_type": "markdown",
   "id": "59e26b95",
   "metadata": {
    "papermill": {
     "duration": null,
     "end_time": null,
     "exception": null,
     "start_time": null,
     "status": "pending"
    },
    "tags": []
   },
   "source": [
    "## Inferences and Conclusion\n",
    "\n",
    "Insights"
   ]
  },
  {
   "cell_type": "markdown",
   "id": "b2d399d2",
   "metadata": {
    "papermill": {
     "duration": null,
     "end_time": null,
     "exception": null,
     "start_time": null,
     "status": "pending"
    },
    "tags": []
   },
   "source": [
    "- Based on the Year table the salaries of data science fields goes on increasing with time as the amount of data generated by community is increasing rapidly.\n",
    "- Lead jobs in Data science are by far the most payed\n",
    "- A lot of the job titles in the dataset have an average salary between 50,000 and 150,000 USD.\n",
    "- There is no clear relationship between education level and salary.\n",
    "- A medium sized company offers a better average salary instead of small and large companies\n",
    "- Remote work is becoming increasingly common, with a growing number of jobs offering a high percentage of remote work. However, there is no clear relationship between remote work and salary.\n",
    "- full time employees get more average salaries than other employee type"
   ]
  },
  {
   "cell_type": "markdown",
   "id": "823a0432",
   "metadata": {
    "papermill": {
     "duration": null,
     "end_time": null,
     "exception": null,
     "start_time": null,
     "status": "pending"
    },
    "tags": []
   },
   "source": [
    "***"
   ]
  },
  {
   "cell_type": "markdown",
   "id": "6258df7b",
   "metadata": {
    "papermill": {
     "duration": null,
     "end_time": null,
     "exception": null,
     "start_time": null,
     "status": "pending"
    },
    "tags": []
   },
   "source": [
    "# References and Future Work"
   ]
  },
  {
   "cell_type": "markdown",
   "id": "e4a3852a",
   "metadata": {
    "papermill": {
     "duration": null,
     "end_time": null,
     "exception": null,
     "start_time": null,
     "status": "pending"
    },
    "tags": []
   },
   "source": [
    "## References\n",
    "Info and links i used through this analisys"
   ]
  },
  {
   "cell_type": "markdown",
   "id": "019fd04d",
   "metadata": {
    "papermill": {
     "duration": null,
     "end_time": null,
     "exception": null,
     "start_time": null,
     "status": "pending"
    },
    "tags": []
   },
   "source": [
    "- Most info used to make this data analysis can be found in the Zero to pandas free online course: https://jovian.com/learn/data-analysis-with-python-zero-to-pandas\n",
    "- introduction info from a newsletter: https://www.clarin.com/economia/vez-empresas-apelan-analisis-datos-mejorar-rendimientos_0_0bBiQAZKlt.html\n",
    "- Pandas user guide: https://pandas.pydata.org/docs/user_guide/index.html\n",
    "- opendatasets Python library: https://github.com/JovianML/opendatasets\n",
    "- Matplotlib user guide: https://matplotlib.org/3.3.1/users/index.html\n",
    "- Seaborn user guide & tutorial: https://seaborn.pydata.org/tutorial.html\n",
    "- Types of data jobs salaries examples to compare: https://careerkarma.com/blog/types-of-data-analysis-jobs/"
   ]
  },
  {
   "cell_type": "markdown",
   "id": "b581129b",
   "metadata": {
    "papermill": {
     "duration": null,
     "end_time": null,
     "exception": null,
     "start_time": null,
     "status": "pending"
    },
    "tags": []
   },
   "source": [
    "## Future work\n",
    "Insights about the future of the data analysis"
   ]
  },
  {
   "cell_type": "markdown",
   "id": "3a5c5876",
   "metadata": {
    "papermill": {
     "duration": null,
     "end_time": null,
     "exception": null,
     "start_time": null,
     "status": "pending"
    },
    "tags": []
   },
   "source": [
    "- The Data Science future is studded with career opportunities. Future of Data Science 2030 is estimated to bring opportunities in various areas of banking, finance, insurance, entertainment, telecommunication, automobile, etc. A data scientist will help grow an organization by assisting them in making better decisions.\n",
    "- In five years, data scientists will be able to do more with less as they are given more access to faster computers and cheaper storage space. They will also have a better understanding of how machine learning algorithms work and how they can be used in creative ways.\n",
    "- The expectation of data analytics salaries is linked to growth\n",
    "- The global demand for data science professionals is expected to increase by 11.5 million by 2026.\n",
    "- AI models like Chat GPT can be a valuable tool for data scientists, but they cannot replace the important role that data scientists play in various industries\n",
    "- Is IT worth learning data science in 2023? There is so much demand that competition doesn't harm and it is a constantly evolving field so there is constant learning."
   ]
  },
  {
   "cell_type": "code",
   "execution_count": null,
   "id": "55738d28",
   "metadata": {
    "papermill": {
     "duration": null,
     "end_time": null,
     "exception": null,
     "start_time": null,
     "status": "pending"
    },
    "tags": []
   },
   "outputs": [],
   "source": [
    "import jovian"
   ]
  },
  {
   "cell_type": "code",
   "execution_count": null,
   "id": "da987ff5",
   "metadata": {
    "papermill": {
     "duration": null,
     "end_time": null,
     "exception": null,
     "start_time": null,
     "status": "pending"
    },
    "tags": []
   },
   "outputs": [],
   "source": [
    "project_name = \"data-science-salaries-proyect\""
   ]
  },
  {
   "cell_type": "code",
   "execution_count": null,
   "id": "04e6315e",
   "metadata": {
    "papermill": {
     "duration": null,
     "end_time": null,
     "exception": null,
     "start_time": null,
     "status": "pending"
    },
    "tags": []
   },
   "outputs": [],
   "source": [
    "jovian.commit(project=project_name, filename='zerotopandas-course-project.ipynb')"
   ]
  }
 ],
 "metadata": {
  "kernelspec": {
   "display_name": "Python 3",
   "language": "python",
   "name": "python3"
  },
  "language_info": {
   "codemirror_mode": {
    "name": "ipython",
    "version": 3
   },
   "file_extension": ".py",
   "mimetype": "text/x-python",
   "name": "python",
   "nbconvert_exporter": "python",
   "pygments_lexer": "ipython3",
   "version": "3.10.10"
  },
  "papermill": {
   "default_parameters": {},
   "duration": 13.737139,
   "end_time": "2023-05-29T20:44:19.141850",
   "environment_variables": {},
   "exception": true,
   "input_path": "__notebook__.ipynb",
   "output_path": "__notebook__.ipynb",
   "parameters": {},
   "start_time": "2023-05-29T20:44:05.404711",
   "version": "2.4.0"
  }
 },
 "nbformat": 4,
 "nbformat_minor": 5
}
